{
  "nbformat": 4,
  "nbformat_minor": 0,
  "metadata": {
    "colab": {
      "provenance": [],
      "authorship_tag": "ABX9TyPgl3dhFAfW+Z0K/8U7xBOh",
      "include_colab_link": true
    },
    "kernelspec": {
      "name": "python3",
      "display_name": "Python 3"
    },
    "language_info": {
      "name": "python"
    }
  },
  "cells": [
    {
      "cell_type": "markdown",
      "metadata": {
        "id": "view-in-github",
        "colab_type": "text"
      },
      "source": [
        "<a href=\"https://colab.research.google.com/github/vijaybasic/vijay_bhasin-RA2311047010159/blob/main/vijay_bhasin_(RA2311047010159).ipynb\" target=\"_parent\"><img src=\"https://colab.research.google.com/assets/colab-badge.svg\" alt=\"Open In Colab\"/></a>"
      ]
    },
    {
      "cell_type": "code",
      "source": [
        "import pandas as pd\n",
        "df =pd.read_csv('/content/student_ml_dataset.csv')"
      ],
      "metadata": {
        "id": "miOWcqcdGpHh"
      },
      "execution_count": null,
      "outputs": []
    },
    {
      "cell_type": "code",
      "source": [
        "df.columns"
      ],
      "metadata": {
        "colab": {
          "base_uri": "https://localhost:8080/"
        },
        "id": "DuFudPl6G7p0",
        "outputId": "48d0e7cf-ee3c-49d0-b00f-674451a6ce67"
      },
      "execution_count": null,
      "outputs": [
        {
          "output_type": "execute_result",
          "data": {
            "text/plain": [
              "Index(['Name', 'Age', 'Gender', 'Hours_Studied', 'IQ', 'Physics_Marks',\n",
              "       'Math_Marks', 'Chemistry_Marks', 'Has_Part_Time_Job'],\n",
              "      dtype='object')"
            ]
          },
          "metadata": {},
          "execution_count": 4
        }
      ]
    },
    {
      "cell_type": "code",
      "source": [
        "df.info()\n"
      ],
      "metadata": {
        "colab": {
          "base_uri": "https://localhost:8080/"
        },
        "id": "fU3CHSvmAgl2",
        "outputId": "9c6155c7-43fd-4ab6-b4af-9cc2a0417b4a"
      },
      "execution_count": null,
      "outputs": [
        {
          "output_type": "stream",
          "name": "stdout",
          "text": [
            "<class 'pandas.core.frame.DataFrame'>\n",
            "RangeIndex: 1000 entries, 0 to 999\n",
            "Data columns (total 9 columns):\n",
            " #   Column             Non-Null Count  Dtype  \n",
            "---  ------             --------------  -----  \n",
            " 0   Name               1000 non-null   object \n",
            " 1   Age                1000 non-null   int64  \n",
            " 2   Gender             1000 non-null   object \n",
            " 3   Hours_Studied      1000 non-null   float64\n",
            " 4   IQ                 1000 non-null   int64  \n",
            " 5   Physics_Marks      1000 non-null   int64  \n",
            " 6   Math_Marks         1000 non-null   int64  \n",
            " 7   Chemistry_Marks    1000 non-null   int64  \n",
            " 8   Has_Part_Time_Job  1000 non-null   bool   \n",
            "dtypes: bool(1), float64(1), int64(5), object(2)\n",
            "memory usage: 63.6+ KB\n"
          ]
        }
      ]
    },
    {
      "cell_type": "code",
      "source": [
        "df.describe()"
      ],
      "metadata": {
        "colab": {
          "base_uri": "https://localhost:8080/",
          "height": 300
        },
        "id": "ZiLv3OBfBaO8",
        "outputId": "79f2b111-d8de-44a7-ae80-ba9c61887642"
      },
      "execution_count": null,
      "outputs": [
        {
          "output_type": "execute_result",
          "data": {
            "text/plain": [
              "               Age  Hours_Studied           IQ  Physics_Marks   Math_Marks  \\\n",
              "count  1000.000000    1000.000000  1000.000000    1000.000000  1000.000000   \n",
              "mean     31.470000       5.394825   115.025000      69.585000    70.546000   \n",
              "std       8.100909       2.555895    19.740721      17.357248    17.097199   \n",
              "min      18.000000       1.003158    80.000000      40.000000    40.000000   \n",
              "25%      25.000000       3.188172    99.000000      54.000000    56.000000   \n",
              "50%      31.000000       5.466678   115.000000      70.000000    72.000000   \n",
              "75%      39.000000       7.462535   131.000000      84.000000    84.000000   \n",
              "max      45.000000       9.997769   150.000000     100.000000   100.000000   \n",
              "\n",
              "       Chemistry_Marks  \n",
              "count      1000.000000  \n",
              "mean         70.727000  \n",
              "std          17.138909  \n",
              "min          40.000000  \n",
              "25%          56.000000  \n",
              "50%          71.000000  \n",
              "75%          85.000000  \n",
              "max         100.000000  "
            ],
            "text/html": [
              "\n",
              "  <div id=\"df-32670faa-df8c-4688-82cf-696afe5a1c15\" class=\"colab-df-container\">\n",
              "    <div>\n",
              "<style scoped>\n",
              "    .dataframe tbody tr th:only-of-type {\n",
              "        vertical-align: middle;\n",
              "    }\n",
              "\n",
              "    .dataframe tbody tr th {\n",
              "        vertical-align: top;\n",
              "    }\n",
              "\n",
              "    .dataframe thead th {\n",
              "        text-align: right;\n",
              "    }\n",
              "</style>\n",
              "<table border=\"1\" class=\"dataframe\">\n",
              "  <thead>\n",
              "    <tr style=\"text-align: right;\">\n",
              "      <th></th>\n",
              "      <th>Age</th>\n",
              "      <th>Hours_Studied</th>\n",
              "      <th>IQ</th>\n",
              "      <th>Physics_Marks</th>\n",
              "      <th>Math_Marks</th>\n",
              "      <th>Chemistry_Marks</th>\n",
              "    </tr>\n",
              "  </thead>\n",
              "  <tbody>\n",
              "    <tr>\n",
              "      <th>count</th>\n",
              "      <td>1000.000000</td>\n",
              "      <td>1000.000000</td>\n",
              "      <td>1000.000000</td>\n",
              "      <td>1000.000000</td>\n",
              "      <td>1000.000000</td>\n",
              "      <td>1000.000000</td>\n",
              "    </tr>\n",
              "    <tr>\n",
              "      <th>mean</th>\n",
              "      <td>31.470000</td>\n",
              "      <td>5.394825</td>\n",
              "      <td>115.025000</td>\n",
              "      <td>69.585000</td>\n",
              "      <td>70.546000</td>\n",
              "      <td>70.727000</td>\n",
              "    </tr>\n",
              "    <tr>\n",
              "      <th>std</th>\n",
              "      <td>8.100909</td>\n",
              "      <td>2.555895</td>\n",
              "      <td>19.740721</td>\n",
              "      <td>17.357248</td>\n",
              "      <td>17.097199</td>\n",
              "      <td>17.138909</td>\n",
              "    </tr>\n",
              "    <tr>\n",
              "      <th>min</th>\n",
              "      <td>18.000000</td>\n",
              "      <td>1.003158</td>\n",
              "      <td>80.000000</td>\n",
              "      <td>40.000000</td>\n",
              "      <td>40.000000</td>\n",
              "      <td>40.000000</td>\n",
              "    </tr>\n",
              "    <tr>\n",
              "      <th>25%</th>\n",
              "      <td>25.000000</td>\n",
              "      <td>3.188172</td>\n",
              "      <td>99.000000</td>\n",
              "      <td>54.000000</td>\n",
              "      <td>56.000000</td>\n",
              "      <td>56.000000</td>\n",
              "    </tr>\n",
              "    <tr>\n",
              "      <th>50%</th>\n",
              "      <td>31.000000</td>\n",
              "      <td>5.466678</td>\n",
              "      <td>115.000000</td>\n",
              "      <td>70.000000</td>\n",
              "      <td>72.000000</td>\n",
              "      <td>71.000000</td>\n",
              "    </tr>\n",
              "    <tr>\n",
              "      <th>75%</th>\n",
              "      <td>39.000000</td>\n",
              "      <td>7.462535</td>\n",
              "      <td>131.000000</td>\n",
              "      <td>84.000000</td>\n",
              "      <td>84.000000</td>\n",
              "      <td>85.000000</td>\n",
              "    </tr>\n",
              "    <tr>\n",
              "      <th>max</th>\n",
              "      <td>45.000000</td>\n",
              "      <td>9.997769</td>\n",
              "      <td>150.000000</td>\n",
              "      <td>100.000000</td>\n",
              "      <td>100.000000</td>\n",
              "      <td>100.000000</td>\n",
              "    </tr>\n",
              "  </tbody>\n",
              "</table>\n",
              "</div>\n",
              "    <div class=\"colab-df-buttons\">\n",
              "\n",
              "  <div class=\"colab-df-container\">\n",
              "    <button class=\"colab-df-convert\" onclick=\"convertToInteractive('df-32670faa-df8c-4688-82cf-696afe5a1c15')\"\n",
              "            title=\"Convert this dataframe to an interactive table.\"\n",
              "            style=\"display:none;\">\n",
              "\n",
              "  <svg xmlns=\"http://www.w3.org/2000/svg\" height=\"24px\" viewBox=\"0 -960 960 960\">\n",
              "    <path d=\"M120-120v-720h720v720H120Zm60-500h600v-160H180v160Zm220 220h160v-160H400v160Zm0 220h160v-160H400v160ZM180-400h160v-160H180v160Zm440 0h160v-160H620v160ZM180-180h160v-160H180v160Zm440 0h160v-160H620v160Z\"/>\n",
              "  </svg>\n",
              "    </button>\n",
              "\n",
              "  <style>\n",
              "    .colab-df-container {\n",
              "      display:flex;\n",
              "      gap: 12px;\n",
              "    }\n",
              "\n",
              "    .colab-df-convert {\n",
              "      background-color: #E8F0FE;\n",
              "      border: none;\n",
              "      border-radius: 50%;\n",
              "      cursor: pointer;\n",
              "      display: none;\n",
              "      fill: #1967D2;\n",
              "      height: 32px;\n",
              "      padding: 0 0 0 0;\n",
              "      width: 32px;\n",
              "    }\n",
              "\n",
              "    .colab-df-convert:hover {\n",
              "      background-color: #E2EBFA;\n",
              "      box-shadow: 0px 1px 2px rgba(60, 64, 67, 0.3), 0px 1px 3px 1px rgba(60, 64, 67, 0.15);\n",
              "      fill: #174EA6;\n",
              "    }\n",
              "\n",
              "    .colab-df-buttons div {\n",
              "      margin-bottom: 4px;\n",
              "    }\n",
              "\n",
              "    [theme=dark] .colab-df-convert {\n",
              "      background-color: #3B4455;\n",
              "      fill: #D2E3FC;\n",
              "    }\n",
              "\n",
              "    [theme=dark] .colab-df-convert:hover {\n",
              "      background-color: #434B5C;\n",
              "      box-shadow: 0px 1px 3px 1px rgba(0, 0, 0, 0.15);\n",
              "      filter: drop-shadow(0px 1px 2px rgba(0, 0, 0, 0.3));\n",
              "      fill: #FFFFFF;\n",
              "    }\n",
              "  </style>\n",
              "\n",
              "    <script>\n",
              "      const buttonEl =\n",
              "        document.querySelector('#df-32670faa-df8c-4688-82cf-696afe5a1c15 button.colab-df-convert');\n",
              "      buttonEl.style.display =\n",
              "        google.colab.kernel.accessAllowed ? 'block' : 'none';\n",
              "\n",
              "      async function convertToInteractive(key) {\n",
              "        const element = document.querySelector('#df-32670faa-df8c-4688-82cf-696afe5a1c15');\n",
              "        const dataTable =\n",
              "          await google.colab.kernel.invokeFunction('convertToInteractive',\n",
              "                                                    [key], {});\n",
              "        if (!dataTable) return;\n",
              "\n",
              "        const docLinkHtml = 'Like what you see? Visit the ' +\n",
              "          '<a target=\"_blank\" href=https://colab.research.google.com/notebooks/data_table.ipynb>data table notebook</a>'\n",
              "          + ' to learn more about interactive tables.';\n",
              "        element.innerHTML = '';\n",
              "        dataTable['output_type'] = 'display_data';\n",
              "        await google.colab.output.renderOutput(dataTable, element);\n",
              "        const docLink = document.createElement('div');\n",
              "        docLink.innerHTML = docLinkHtml;\n",
              "        element.appendChild(docLink);\n",
              "      }\n",
              "    </script>\n",
              "  </div>\n",
              "\n",
              "\n",
              "<div id=\"df-50fa3273-6b07-4f26-88e2-e8c173f79a79\">\n",
              "  <button class=\"colab-df-quickchart\" onclick=\"quickchart('df-50fa3273-6b07-4f26-88e2-e8c173f79a79')\"\n",
              "            title=\"Suggest charts.\"\n",
              "            style=\"display:none;\">\n",
              "\n",
              "<svg xmlns=\"http://www.w3.org/2000/svg\" height=\"24px\"viewBox=\"0 0 24 24\"\n",
              "     width=\"24px\">\n",
              "    <g>\n",
              "        <path d=\"M19 3H5c-1.1 0-2 .9-2 2v14c0 1.1.9 2 2 2h14c1.1 0 2-.9 2-2V5c0-1.1-.9-2-2-2zM9 17H7v-7h2v7zm4 0h-2V7h2v10zm4 0h-2v-4h2v4z\"/>\n",
              "    </g>\n",
              "</svg>\n",
              "  </button>\n",
              "\n",
              "<style>\n",
              "  .colab-df-quickchart {\n",
              "      --bg-color: #E8F0FE;\n",
              "      --fill-color: #1967D2;\n",
              "      --hover-bg-color: #E2EBFA;\n",
              "      --hover-fill-color: #174EA6;\n",
              "      --disabled-fill-color: #AAA;\n",
              "      --disabled-bg-color: #DDD;\n",
              "  }\n",
              "\n",
              "  [theme=dark] .colab-df-quickchart {\n",
              "      --bg-color: #3B4455;\n",
              "      --fill-color: #D2E3FC;\n",
              "      --hover-bg-color: #434B5C;\n",
              "      --hover-fill-color: #FFFFFF;\n",
              "      --disabled-bg-color: #3B4455;\n",
              "      --disabled-fill-color: #666;\n",
              "  }\n",
              "\n",
              "  .colab-df-quickchart {\n",
              "    background-color: var(--bg-color);\n",
              "    border: none;\n",
              "    border-radius: 50%;\n",
              "    cursor: pointer;\n",
              "    display: none;\n",
              "    fill: var(--fill-color);\n",
              "    height: 32px;\n",
              "    padding: 0;\n",
              "    width: 32px;\n",
              "  }\n",
              "\n",
              "  .colab-df-quickchart:hover {\n",
              "    background-color: var(--hover-bg-color);\n",
              "    box-shadow: 0 1px 2px rgba(60, 64, 67, 0.3), 0 1px 3px 1px rgba(60, 64, 67, 0.15);\n",
              "    fill: var(--button-hover-fill-color);\n",
              "  }\n",
              "\n",
              "  .colab-df-quickchart-complete:disabled,\n",
              "  .colab-df-quickchart-complete:disabled:hover {\n",
              "    background-color: var(--disabled-bg-color);\n",
              "    fill: var(--disabled-fill-color);\n",
              "    box-shadow: none;\n",
              "  }\n",
              "\n",
              "  .colab-df-spinner {\n",
              "    border: 2px solid var(--fill-color);\n",
              "    border-color: transparent;\n",
              "    border-bottom-color: var(--fill-color);\n",
              "    animation:\n",
              "      spin 1s steps(1) infinite;\n",
              "  }\n",
              "\n",
              "  @keyframes spin {\n",
              "    0% {\n",
              "      border-color: transparent;\n",
              "      border-bottom-color: var(--fill-color);\n",
              "      border-left-color: var(--fill-color);\n",
              "    }\n",
              "    20% {\n",
              "      border-color: transparent;\n",
              "      border-left-color: var(--fill-color);\n",
              "      border-top-color: var(--fill-color);\n",
              "    }\n",
              "    30% {\n",
              "      border-color: transparent;\n",
              "      border-left-color: var(--fill-color);\n",
              "      border-top-color: var(--fill-color);\n",
              "      border-right-color: var(--fill-color);\n",
              "    }\n",
              "    40% {\n",
              "      border-color: transparent;\n",
              "      border-right-color: var(--fill-color);\n",
              "      border-top-color: var(--fill-color);\n",
              "    }\n",
              "    60% {\n",
              "      border-color: transparent;\n",
              "      border-right-color: var(--fill-color);\n",
              "    }\n",
              "    80% {\n",
              "      border-color: transparent;\n",
              "      border-right-color: var(--fill-color);\n",
              "      border-bottom-color: var(--fill-color);\n",
              "    }\n",
              "    90% {\n",
              "      border-color: transparent;\n",
              "      border-bottom-color: var(--fill-color);\n",
              "    }\n",
              "  }\n",
              "</style>\n",
              "\n",
              "  <script>\n",
              "    async function quickchart(key) {\n",
              "      const quickchartButtonEl =\n",
              "        document.querySelector('#' + key + ' button');\n",
              "      quickchartButtonEl.disabled = true;  // To prevent multiple clicks.\n",
              "      quickchartButtonEl.classList.add('colab-df-spinner');\n",
              "      try {\n",
              "        const charts = await google.colab.kernel.invokeFunction(\n",
              "            'suggestCharts', [key], {});\n",
              "      } catch (error) {\n",
              "        console.error('Error during call to suggestCharts:', error);\n",
              "      }\n",
              "      quickchartButtonEl.classList.remove('colab-df-spinner');\n",
              "      quickchartButtonEl.classList.add('colab-df-quickchart-complete');\n",
              "    }\n",
              "    (() => {\n",
              "      let quickchartButtonEl =\n",
              "        document.querySelector('#df-50fa3273-6b07-4f26-88e2-e8c173f79a79 button');\n",
              "      quickchartButtonEl.style.display =\n",
              "        google.colab.kernel.accessAllowed ? 'block' : 'none';\n",
              "    })();\n",
              "  </script>\n",
              "</div>\n",
              "    </div>\n",
              "  </div>\n"
            ]
          },
          "metadata": {},
          "execution_count": 6
        }
      ]
    },
    {
      "cell_type": "code",
      "source": [
        "numerics=['int16','int32','int64','float16','float32','float64']\n",
        "numeric_df= df.select_dtypes(include=numerics)\n",
        "len(numeric_df.columns)"
      ],
      "metadata": {
        "colab": {
          "base_uri": "https://localhost:8080/"
        },
        "id": "JGvseJjZBj59",
        "outputId": "bbf37719-f192-4eb8-fcd4-0bc29d49dd54"
      },
      "execution_count": null,
      "outputs": [
        {
          "output_type": "execute_result",
          "data": {
            "text/plain": [
              "6"
            ]
          },
          "metadata": {},
          "execution_count": 7
        }
      ]
    },
    {
      "cell_type": "code",
      "source": [
        "df.isna().sum()"
      ],
      "metadata": {
        "colab": {
          "base_uri": "https://localhost:8080/"
        },
        "id": "sMexVFSGEeDh",
        "outputId": "5ec2a9e6-fde9-4c0d-b4f8-d8cc3cf9e3c9"
      },
      "execution_count": null,
      "outputs": [
        {
          "output_type": "execute_result",
          "data": {
            "text/plain": [
              "Name                 0\n",
              "Age                  0\n",
              "Gender               0\n",
              "Hours_Studied        0\n",
              "IQ                   0\n",
              "Physics_Marks        0\n",
              "Math_Marks           0\n",
              "Chemistry_Marks      0\n",
              "Has_Part_Time_Job    0\n",
              "dtype: int64"
            ]
          },
          "metadata": {},
          "execution_count": 8
        }
      ]
    },
    {
      "cell_type": "code",
      "source": [
        "missing_percentages= df.isna().sum()/len(df)\n",
        "missing_percentages"
      ],
      "metadata": {
        "colab": {
          "base_uri": "https://localhost:8080/"
        },
        "id": "jhp2DjrEF1CO",
        "outputId": "32df4a90-8678-4aee-835f-6a86f30ed04b"
      },
      "execution_count": null,
      "outputs": [
        {
          "output_type": "execute_result",
          "data": {
            "text/plain": [
              "Name                 0.0\n",
              "Age                  0.0\n",
              "Gender               0.0\n",
              "Hours_Studied        0.0\n",
              "IQ                   0.0\n",
              "Physics_Marks        0.0\n",
              "Math_Marks           0.0\n",
              "Chemistry_Marks      0.0\n",
              "Has_Part_Time_Job    0.0\n",
              "dtype: float64"
            ]
          },
          "metadata": {},
          "execution_count": 9
        }
      ]
    },
    {
      "cell_type": "code",
      "source": [
        "missing_percentages.plot()"
      ],
      "metadata": {
        "colab": {
          "base_uri": "https://localhost:8080/",
          "height": 447
        },
        "id": "YDH9ChbOGTVl",
        "outputId": "8ec08108-92da-4f17-ec78-2494df6d653e"
      },
      "execution_count": null,
      "outputs": [
        {
          "output_type": "execute_result",
          "data": {
            "text/plain": [
              "<Axes: >"
            ]
          },
          "metadata": {},
          "execution_count": 10
        },
        {
          "output_type": "display_data",
          "data": {
            "text/plain": [
              "<Figure size 640x480 with 1 Axes>"
            ],
            "image/png": "[encoded data removed]"
          },
          "metadata": {}
        }
      ]
    },
    {
      "cell_type": "markdown",
      "source": [
        "ANALYSIS AND VISUALIZATION\n"
      ],
      "metadata": {
        "id": "PJ2e1GJ3x6Zj"
      }
    },
    {
      "cell_type": "code",
      "source": [
        "df.Age.unique()\n"
      ],
      "metadata": {
        "colab": {
          "base_uri": "https://localhost:8080/"
        },
        "id": "7SaLW79KNMWG",
        "outputId": "955d35da-5e4b-418f-dc81-51b145a45124"
      },
      "execution_count": null,
      "outputs": [
        {
          "output_type": "execute_result",
          "data": {
            "text/plain": [
              "array([26, 37, 19, 21, 29, 40, 31, 30, 25, 27, 28, 43, 39, 24, 36, 32, 41,\n",
              "       34, 45, 42, 20, 35, 44, 18, 33, 22, 38, 23])"
            ]
          },
          "metadata": {},
          "execution_count": 11
        }
      ]
    },
    {
      "cell_type": "code",
      "source": [
        "age = df.Age.value_counts()\n",
        "age"
      ],
      "metadata": {
        "colab": {
          "base_uri": "https://localhost:8080/"
        },
        "id": "uM15599tvh5w",
        "outputId": "82abbaaf-48ed-40ac-cd75-0378efc94c50"
      },
      "execution_count": null,
      "outputs": [
        {
          "output_type": "execute_result",
          "data": {
            "text/plain": [
              "26    52\n",
              "29    51\n",
              "21    43\n",
              "42    42\n",
              "28    41\n",
              "39    40\n",
              "45    39\n",
              "34    39\n",
              "36    39\n",
              "41    37\n",
              "38    37\n",
              "27    36\n",
              "24    36\n",
              "20    36\n",
              "19    35\n",
              "18    34\n",
              "40    34\n",
              "32    34\n",
              "37    33\n",
              "44    32\n",
              "22    32\n",
              "43    31\n",
              "23    30\n",
              "25    29\n",
              "35    29\n",
              "31    28\n",
              "33    27\n",
              "30    24\n",
              "Name: Age, dtype: int64"
            ]
          },
          "metadata": {},
          "execution_count": 12
        }
      ]
    },
    {
      "cell_type": "code",
      "source": [
        "age.plot(kind='barh')"
      ],
      "metadata": {
        "colab": {
          "base_uri": "https://localhost:8080/",
          "height": 447
        },
        "id": "jCrbO0RBvh8Q",
        "outputId": "9015b9d7-f84f-4f02-8dfc-09e4430b3a8d"
      },
      "execution_count": null,
      "outputs": [
        {
          "output_type": "execute_result",
          "data": {
            "text/plain": [
              "<Axes: >"
            ]
          },
          "metadata": {},
          "execution_count": 13
        },
        {
          "output_type": "display_data",
          "data": {
            "text/plain": [
              "<Figure size 640x480 with 1 Axes>"
            ],
            "image/png": "[encoded data removed]"
          },
          "metadata": {}
        }
      ]
    },
    {
      "cell_type": "code",
      "source": [
        "import seaborn as sns\n",
        "sns.set_style(\"darkgrid\")\n",
        "sns.distplot(age)"
      ],
      "metadata": {
        "id": "q9lKpwhnvh-b",
        "colab": {
          "base_uri": "https://localhost:8080/",
          "height": 657
        },
        "outputId": "39d6f202-cceb-4c87-86cd-13a5fa25079e"
      },
      "execution_count": null,
      "outputs": [
        {
          "output_type": "stream",
          "name": "stderr",
          "text": [
            "<ipython-input-14-1d2552255237>:3: UserWarning: \n",
            "\n",
            "`distplot` is a deprecated function and will be removed in seaborn v0.14.0.\n",
            "\n",
            "Please adapt your code to use either `displot` (a figure-level function with\n",
            "similar flexibility) or `histplot` (an axes-level function for histograms).\n",
            "\n",
            "For a guide to updating your code to use the new functions, please see\n",
            "https://gist.github.com/mwaskom/de44147ed2974457ad6372750bbe5751\n",
            "\n",
            "  sns.distplot(age)\n"
          ]
        },
        {
          "output_type": "execute_result",
          "data": {
            "text/plain": [
              "<Axes: xlabel='Age', ylabel='Density'>"
            ]
          },
          "metadata": {},
          "execution_count": 14
        },
        {
          "output_type": "display_data",
          "data": {
            "text/plain": [
              "<Figure size 640x480 with 1 Axes>"
            ],
            "image/png": "[encoded data removed]"
          },
          "metadata": {}
        }
      ]
    },
    {
      "cell_type": "code",
      "source": [
        "high_number_of_working_age =age[30=<age<=40]\n",
        "low_number_of_working_age =age[40=<age<=50]"
      ],
      "metadata": {
        "id": "vEbsRLBlviB_",
        "colab": {
          "base_uri": "https://localhost:8080/",
          "height": 140
        },
        "outputId": "15566f50-05cb-4064-9d7e-2ec678b0438c"
      },
      "execution_count": null,
      "outputs": [
        {
          "output_type": "error",
          "ename": "SyntaxError",
          "evalue": "ignored",
          "traceback": [
            "\u001b[0;36m  File \u001b[0;32m\"<ipython-input-16-7ef16800ae72>\"\u001b[0;36m, line \u001b[0;32m1\u001b[0m\n\u001b[0;31m    high_number_of_working_age =age[30=<age<=40]\u001b[0m\n\u001b[0m                                      ^\u001b[0m\n\u001b[0;31mSyntaxError\u001b[0m\u001b[0;31m:\u001b[0m invalid syntax\n"
          ]
        }
      ]
    },
    {
      "cell_type": "code",
      "source": [
        "df.Gender.unique()"
      ],
      "metadata": {
        "colab": {
          "base_uri": "https://localhost:8080/"
        },
        "id": "tH52Og_lTpNF",
        "outputId": "20395843-f720-4d34-c4f6-5d6306c43e32"
      },
      "execution_count": null,
      "outputs": [
        {
          "output_type": "execute_result",
          "data": {
            "text/plain": [
              "array(['Female', 'Male'], dtype=object)"
            ]
          },
          "metadata": {},
          "execution_count": 17
        }
      ]
    },
    {
      "cell_type": "code",
      "source": [
        "gender=df.Gender.value_counts()\n",
        "gender\n"
      ],
      "metadata": {
        "colab": {
          "base_uri": "https://localhost:8080/"
        },
        "id": "2tvxM2yKHsjk",
        "outputId": "b37f0ce3-60bf-4721-ec3c-773443b33af2"
      },
      "execution_count": null,
      "outputs": [
        {
          "output_type": "execute_result",
          "data": {
            "text/plain": [
              "Female    516\n",
              "Male      484\n",
              "Name: Gender, dtype: int64"
            ]
          },
          "metadata": {},
          "execution_count": 18
        }
      ]
    },
    {
      "cell_type": "code",
      "source": [
        "gendeer= gender.plot(kind='barh')"
      ],
      "metadata": {
        "colab": {
          "base_uri": "https://localhost:8080/",
          "height": 430
        },
        "id": "1fxysraRITSo",
        "outputId": "f190b8bb-d3e5-4bd0-b339-2969cd32a03d"
      },
      "execution_count": null,
      "outputs": [
        {
          "output_type": "display_data",
          "data": {
            "text/plain": [
              "<Figure size 640x480 with 1 Axes>"
            ],
            "image/png": "[encoded data removed]"
          },
          "metadata": {}
        }
      ]
    },
    {
      "cell_type": "code",
      "source": [
        "df.IQ\n",
        "df.IQ.unique()"
      ],
      "metadata": {
        "colab": {
          "base_uri": "https://localhost:8080/"
        },
        "id": "OwMSyImEIUzF",
        "outputId": "bba83fd0-c055-48bb-c464-4335ee245b82"
      },
      "execution_count": null,
      "outputs": [
        {
          "output_type": "execute_result",
          "data": {
            "text/plain": [
              "array([ 98, 133,  89, 106,  88, 119, 146, 128, 129, 136, 113,  97, 132,\n",
              "       104, 115, 131, 112, 149, 118, 120, 144, 127, 143, 111,  83, 105,\n",
              "        94,  80,  82, 148, 126,  86, 116, 100,  96, 103, 121, 123,  95,\n",
              "        84, 150, 110,  93, 108,  91, 101, 140, 145, 134,  87,  99, 102,\n",
              "       135, 130,  90, 137, 117, 114, 125, 107,  92, 109, 139, 141, 147,\n",
              "       142, 138, 122, 124,  85,  81])"
            ]
          },
          "metadata": {},
          "execution_count": 23
        }
      ]
    },
    {
      "cell_type": "code",
      "source": [
        "iq=df.IQ.value_counts()\n",
        "iq"
      ],
      "metadata": {
        "colab": {
          "base_uri": "https://localhost:8080/"
        },
        "id": "idDoIKh-K_Iv",
        "outputId": "1a168176-45fe-4cd9-bee5-08ab4247330a"
      },
      "execution_count": null,
      "outputs": [
        {
          "output_type": "execute_result",
          "data": {
            "text/plain": [
              "103    24\n",
              "106    21\n",
              "123    20\n",
              "110    20\n",
              "102    20\n",
              "       ..\n",
              "147     8\n",
              "139     8\n",
              "150     7\n",
              "96      7\n",
              "81      7\n",
              "Name: IQ, Length: 71, dtype: int64"
            ]
          },
          "metadata": {},
          "execution_count": 22
        }
      ]
    },
    {
      "cell_type": "code",
      "source": [
        "iq = iq.plot(kind=\"barh\")"
      ],
      "metadata": {
        "colab": {
          "base_uri": "https://localhost:8080/",
          "height": 433
        },
        "id": "7dY5D96zLQaM",
        "outputId": "4ba6888b-d8b7-4a3a-c400-6cf8adca1d92"
      },
      "execution_count": null,
      "outputs": [
        {
          "output_type": "display_data",
          "data": {
            "text/plain": [
              "<Figure size 640x480 with 1 Axes>"
            ],
            "image/png": "[encoded data removed]"
          },
          "metadata": {}
        }
      ]
    },
    {
      "cell_type": "code",
      "source": [
        "df.Hours_Studied.unique()"
      ],
      "metadata": {
        "id": "7DEX6_A_MCqz",
        "colab": {
          "base_uri": "https://localhost:8080/"
        },
        "outputId": "6f21062e-52c4-4aa3-934a-b551f4544bd1"
      },
      "execution_count": null,
      "outputs": [
        {
          "output_type": "execute_result",
          "data": {
            "text/plain": [
              "array([6.59634726, 5.67220232, 6.28258116, 8.00442242, 4.32250094,\n",
              "       1.85412084, 1.55785024, 3.47679205, 5.84506962, 2.36273569,\n",
              "       7.98733423, 3.67829774, 8.89146505, 9.92511979, 8.19030394,\n",
              "       4.54068206, 1.47467397, 6.3060059 , 4.71844673, 7.46934036,\n",
              "       5.92961857, 2.34818564, 9.10286406, 1.03316437, 8.84900002,\n",
              "       9.47459461, 5.47788633, 5.68792469, 2.77219377, 6.66827733,\n",
              "       1.87899237, 3.66971638, 6.52000417, 1.26661163, 3.73133008,\n",
              "       9.70410945, 7.94919075, 8.52553442, 6.43437887, 4.15272048,\n",
              "       1.25268823, 9.77303494, 4.63577754, 5.70064077, 8.02393778,\n",
              "       4.3533405 , 9.30199553, 7.55778554, 9.29696649, 7.3078752 ,\n",
              "       4.22235085, 4.58259686, 4.4663196 , 9.48640396, 1.14001452,\n",
              "       6.21670995, 9.49020346, 3.13002943, 4.06103347, 6.26181918,\n",
              "       1.31996233, 6.73855231, 6.26834456, 2.27643418, 9.72548232,\n",
              "       3.3415609 , 5.56190551, 6.1530002 , 2.31044928, 3.12914726,\n",
              "       7.15810679, 2.36968285, 7.77227918, 6.78205723, 5.04724826,\n",
              "       2.66491618, 5.37290419, 3.5204147 , 9.39761487, 8.64922729,\n",
              "       1.49136159, 8.52915849, 9.29094545, 1.18903477, 5.62539571,\n",
              "       2.75260729, 8.91724274, 6.46356741, 4.01733623, 9.82620077,\n",
              "       2.112095  , 7.51346009, 7.69863019, 3.31110481, 8.63954294,\n",
              "       9.35933915, 8.52308217, 1.51113575, 4.71335517, 7.28183577,\n",
              "       3.52692684, 6.51311402, 5.14378734, 5.23585272, 9.08005892,\n",
              "       7.77063888, 1.88501882, 4.1117047 , 6.23018837, 4.45823452,\n",
              "       8.16402043, 1.00315769, 2.52879488, 3.91325188, 4.28274433,\n",
              "       4.12525551, 8.84506663, 1.59346847, 2.98233795, 3.24340071,\n",
              "       2.78105902, 8.86378988, 6.63261687, 6.82164576, 3.40473177,\n",
              "       2.93297205, 8.53364718, 8.38040727, 4.56994188, 7.31458016,\n",
              "       2.03838063, 1.83570556, 3.70759137, 3.91337129, 4.64231568,\n",
              "       6.7687835 , 2.9662999 , 9.1007143 , 4.320917  , 9.65906171,\n",
              "       2.24296766, 6.0285796 , 4.89642312, 5.20727917, 3.93209297,\n",
              "       5.13205174, 8.16852191, 5.86140658, 9.3703249 , 8.81113926,\n",
              "       8.15467391, 2.78140747, 3.04793017, 9.45899682, 6.97819571,\n",
              "       6.57241298, 6.6793132 , 4.47142587, 4.1804929 , 5.00343343,\n",
              "       1.56966231, 7.65118186, 2.52193004, 6.89079545, 3.18842711,\n",
              "       4.63163772, 6.64118931, 9.00475306, 6.21407253, 5.05689681,\n",
              "       3.68241381, 2.71181158, 1.02561115, 1.14251703, 2.04719846,\n",
              "       5.31452868, 8.31374955, 9.84595501, 1.72786713, 7.69124746,\n",
              "       7.84817955, 8.08131061, 2.63620345, 9.96841968, 2.02130648,\n",
              "       5.41705197, 4.49085877, 7.52821779, 4.38230595, 9.05984688,\n",
              "       5.9835591 , 5.55249748, 1.45210756, 8.80223405, 5.65982764,\n",
              "       1.62037443, 8.80721297, 6.94033396, 2.3727169 , 9.66782475,\n",
              "       1.4415018 , 1.22150135, 7.37352002, 8.06140877, 5.73841635,\n",
              "       6.23530444, 8.05133134, 5.23883359, 3.41481353, 4.56676247,\n",
              "       6.73233689, 5.45546975, 8.9818937 , 3.25921159, 3.60141263,\n",
              "       7.28972179, 8.35903597, 8.39352525, 8.68629285, 5.9030559 ,\n",
              "       5.85734158, 6.06780958, 6.76436321, 2.07760537, 6.99034991,\n",
              "       8.56773801, 5.41739059, 9.99776928, 8.2974812 , 1.22242325,\n",
              "       9.78264799, 5.44005913, 6.04292712, 1.22931795, 8.94568732,\n",
              "       3.2456896 , 2.58030531, 2.68049783, 6.9265711 , 2.89918571,\n",
              "       1.84223562, 4.70288408, 2.52647198, 2.06606016, 3.94748306,\n",
              "       4.87072629, 6.59850455, 1.1184681 , 4.60035975, 6.30543264,\n",
              "       1.0240609 , 1.43203143, 6.25498771, 4.16590731, 4.15231363,\n",
              "       6.28389967, 2.04693663, 4.66486056, 3.83429956, 6.4827932 ,\n",
              "       7.33561846, 7.43882315, 1.27151196, 3.41610868, 3.65102591,\n",
              "       3.36254937, 2.7388141 , 2.43023939, 7.50327505, 8.75563416,\n",
              "       1.34609561, 5.08276984, 8.90095987, 6.14445139, 6.73297809,\n",
              "       6.48339316, 2.06691912, 7.29324144, 9.93991839, 7.83006245,\n",
              "       1.26581553, 3.07809634, 4.49846162, 5.13841164, 3.16971756,\n",
              "       2.43966105, 3.87882313, 7.93248167, 5.980301  , 1.98797133,\n",
              "       7.36564569, 8.11695941, 7.19780752, 2.81723188, 2.17378007,\n",
              "       7.3875951 , 3.0097288 , 4.19650948, 3.97477455, 2.05527583,\n",
              "       4.41132691, 6.02708555, 9.05816025, 6.50179522, 1.47914243,\n",
              "       3.9916308 , 6.32444214, 3.08322906, 7.31664316, 7.45884185,\n",
              "       5.8183116 , 5.38565502, 1.87265861, 3.47802239, 1.4541552 ,\n",
              "       5.94015119, 8.6698666 , 8.56305411, 7.51102977, 6.2975586 ,\n",
              "       3.57529294, 9.54305957, 7.24301071, 3.89205216, 5.85878067,\n",
              "       7.96186833, 9.2113503 , 9.65846471, 2.28027103, 5.86889277,\n",
              "       4.82323351, 3.09676488, 7.78168892, 4.13659563, 6.61100951,\n",
              "       2.31300112, 7.90404095, 2.9262181 , 6.92859041, 6.58274185,\n",
              "       7.91103659, 2.13543883, 2.94135532, 2.89702222, 5.68366119,\n",
              "       1.67801969, 2.48986576, 2.94289251, 4.75908575, 3.28436502,\n",
              "       9.6907314 , 4.9156338 , 6.49705011, 6.67352205, 3.15871756,\n",
              "       2.90835115, 2.48140455, 1.34213725, 6.56997409, 4.13353426,\n",
              "       1.24198539, 6.95754752, 3.94547076, 4.84435376, 5.3102304 ,\n",
              "       5.84970133, 4.70077434, 8.13815687, 1.26996276, 1.87650396,\n",
              "       4.68824888, 1.73903081, 7.99501099, 7.78891086, 1.57326385,\n",
              "       4.01241853, 3.61804653, 6.25564233, 7.32168527, 6.43800906,\n",
              "       3.74905521, 7.4850205 , 7.03047502, 3.30160498, 2.82668984,\n",
              "       6.48175768, 3.36227035, 2.26444005, 9.28416686, 5.50446274,\n",
              "       7.01331254, 1.67445932, 6.61067317, 5.06345384, 2.16240967,\n",
              "       7.08120045, 4.36684653, 8.13540001, 1.9239655 , 7.8677531 ,\n",
              "       4.32421161, 9.0807536 , 1.57288784, 7.25030937, 6.60332929,\n",
              "       5.52788081, 3.36332154, 5.6596589 , 9.0873038 , 4.24033163,\n",
              "       9.45785544, 8.8582343 , 4.31183085, 4.39483983, 3.3049897 ,\n",
              "       3.20221555, 1.59560713, 7.00703943, 5.38382101, 2.31022895,\n",
              "       6.37860863, 6.72149681, 7.80260842, 8.3409762 , 3.94615929,\n",
              "       4.61291304, 5.06741008, 2.89192457, 4.9286412 , 9.48327046,\n",
              "       1.39461264, 8.22190284, 9.54222576, 1.71823205, 5.98908387,\n",
              "       7.14104974, 5.76733866, 4.82262694, 6.09120461, 1.14213937,\n",
              "       9.11286178, 4.72150168, 5.20656397, 6.69079911, 6.47983957,\n",
              "       8.43285949, 8.51055411, 4.31346319, 9.15200972, 1.8586718 ,\n",
              "       1.57916393, 3.6584875 , 2.85221105, 1.53233756, 8.12345194,\n",
              "       4.64743521, 2.44951562, 5.66713056, 2.11614803, 5.52738717,\n",
              "       5.24996516, 4.14890038, 6.21765794, 5.90352341, 9.64822534,\n",
              "       7.981358  , 2.03937613, 5.42710188, 8.29324736, 8.39805766,\n",
              "       1.09662206, 5.77491818, 4.41584552, 7.32106796, 6.71748997,\n",
              "       3.20359667, 5.1995906 , 2.56631838, 5.76075204, 6.6262724 ,\n",
              "       2.80165451, 3.73560886, 7.00587411, 8.26401158, 8.25056847,\n",
              "       4.1621569 , 4.40795482, 5.21001796, 8.49047194, 9.28363231,\n",
              "       7.26414829, 8.41384532, 3.98492909, 7.79594064, 4.79465013,\n",
              "       9.93872937, 2.66323079, 5.39098491, 5.8191806 , 5.00014615,\n",
              "       7.85726298, 8.56327918, 2.5025944 , 4.99686369, 6.62010466,\n",
              "       6.92249263, 1.52383262, 3.34015196, 2.9286263 , 4.88486498,\n",
              "       7.6088306 , 6.47936254, 9.19829627, 6.25514741, 2.56302895,\n",
              "       2.42321826, 1.31782254, 5.38018097, 4.46192123, 8.98135473,\n",
              "       2.88144105, 6.69083728, 8.01110997, 6.16574623, 6.32300528,\n",
              "       7.77679941, 2.47009538, 4.99533024, 2.19927695, 4.96740076,\n",
              "       5.50441098, 2.33758774, 6.38942847, 7.54214926, 6.4934056 ,\n",
              "       6.94586388, 3.96386474, 5.750396  , 4.12229225, 7.98637411,\n",
              "       9.56003008, 6.67680674, 4.39588272, 5.86363193, 3.04606314,\n",
              "       2.08611999, 9.55737841, 5.86099462, 3.78060954, 8.83426446,\n",
              "       4.56924759, 3.86719369, 6.01159252, 8.83182683, 2.74627477,\n",
              "       7.91990411, 3.85610315, 7.17932789, 9.59991749, 9.75688802,\n",
              "       3.13822805, 5.09113828, 3.84840451, 7.81999531, 6.64278071,\n",
              "       5.81307355, 1.47425474, 1.17140367, 9.14082102, 7.58966235,\n",
              "       9.59506891, 8.32736129, 9.31799272, 3.55415874, 9.80716701,\n",
              "       8.81068855, 2.3877324 , 3.31829098, 1.46320305, 5.12661324,\n",
              "       5.40101403, 6.45299603, 1.77704991, 8.1871738 , 6.22224852,\n",
              "       2.64888191, 6.66704099, 5.27319446, 7.99923812, 1.64614915,\n",
              "       1.22634393, 3.03475526, 1.93184608, 1.3059963 , 1.91848896,\n",
              "       3.75613567, 6.91409073, 8.07566849, 7.12878957, 9.88904115,\n",
              "       2.74715706, 8.30045475, 4.85940194, 7.3143566 , 3.66049992,\n",
              "       4.83815311, 7.05309308, 9.74153877, 8.42286333, 9.18491409,\n",
              "       4.18359302, 3.97797571, 6.31223198, 7.14565689, 7.46875011,\n",
              "       3.40389621, 7.2846247 , 2.66529404, 9.18276867, 7.28758836,\n",
              "       5.10414011, 3.53338726, 3.09567957, 4.76480132, 9.49307202,\n",
              "       3.47350603, 4.17883784, 5.49316407, 4.31589544, 4.49946362,\n",
              "       3.98032617, 1.15255115, 7.28145147, 3.30552321, 8.5109214 ,\n",
              "       4.88803719, 9.98984572, 9.83709436, 1.74632568, 8.71569286,\n",
              "       3.36676858, 2.14669974, 5.13930773, 9.42331781, 6.65662417,\n",
              "       8.6862089 , 2.43918161, 2.92184149, 8.11798028, 6.45215741,\n",
              "       2.12434405, 9.34553285, 1.30356407, 8.78495211, 1.39653046,\n",
              "       1.95595963, 6.90399835, 2.3879269 , 2.98696629, 6.57539645,\n",
              "       9.33989825, 5.98090084, 1.2389796 , 6.70062813, 4.00920605,\n",
              "       7.05177967, 1.86135055, 7.53869496, 1.66439194, 8.02213839,\n",
              "       2.46391217, 9.593937  , 7.22746359, 8.10316617, 9.89557404,\n",
              "       8.57814876, 2.05117243, 3.1238892 , 4.25283416, 6.18942454,\n",
              "       7.07782201, 2.44748161, 1.18318008, 6.13295414, 2.83427931,\n",
              "       9.49817764, 2.57391477, 9.42689882, 9.06208467, 7.04314638,\n",
              "       9.72521565, 5.64115384, 8.39270315, 7.14838746, 8.64211649,\n",
              "       7.17117658, 8.70352754, 8.21610326, 5.51260385, 6.03906076,\n",
              "       1.89268824, 3.7819973 , 1.02622485, 3.67381748, 6.96894866,\n",
              "       5.57957125, 5.75695946, 4.91331097, 2.17177119, 2.76581209,\n",
              "       1.91741724, 8.85738258, 4.92146999, 1.38305798, 1.79923816,\n",
              "       8.09653477, 9.04692489, 4.91999538, 6.01137469, 1.18653145,\n",
              "       8.43881993, 3.42233601, 6.8605248 , 4.52606982, 5.43814927,\n",
              "       2.83801185, 4.10552151, 7.10282449, 4.52488247, 3.30319394,\n",
              "       3.12649504, 1.16328987, 3.99458795, 7.25906684, 1.91255187,\n",
              "       1.41709207, 5.71915922, 3.70842793, 6.72622485, 6.12423589,\n",
              "       6.30549785, 1.45371654, 4.56842488, 5.32532317, 7.13576783,\n",
              "       7.10075161, 5.59115196, 5.57668495, 1.20530947, 4.21849979,\n",
              "       6.96803184, 8.61887444, 9.42849961, 4.38562232, 7.8991244 ,\n",
              "       3.22683525, 1.64119394, 1.45674406, 7.17955723, 9.44084704,\n",
              "       3.63196979, 4.21517355, 8.47778477, 4.01760611, 6.26057776,\n",
              "       8.83923658, 2.93612325, 6.62561978, 4.55668601, 6.60224274,\n",
              "       4.25292583, 4.2331682 , 4.54069533, 1.25307335, 8.24559649,\n",
              "       9.65585184, 6.91635789, 5.13391227, 1.19872467, 9.86612645,\n",
              "       1.73629119, 8.99731298, 4.87165455, 4.24450364, 3.85811343,\n",
              "       1.81248574, 5.42123667, 5.90014558, 9.82355229, 5.52753889,\n",
              "       7.5238678 , 5.67215661, 9.67055121, 9.53040808, 7.42344489,\n",
              "       8.72349953, 2.88890178, 8.1059957 , 8.11405148, 4.05495144,\n",
              "       8.01661034, 8.99251852, 1.54927764, 5.40340252, 2.6011135 ,\n",
              "       5.28024278, 1.40788745, 7.11153844, 5.62975903, 1.12004849,\n",
              "       6.48136311, 8.66520541, 7.44995497, 8.91598913, 6.70219425,\n",
              "       1.40392425, 2.65091616, 2.81630063, 9.64966113, 1.18063949,\n",
              "       7.98623047, 1.47962996, 6.51775635, 7.65376059, 7.84139725,\n",
              "       7.42714372, 3.70658484, 1.22177373, 2.40184939, 2.99614289,\n",
              "       9.83948263, 2.53824941, 6.26296796, 5.14498861, 4.76962145,\n",
              "       3.4921925 , 8.17796767, 9.97342812, 5.48184353, 3.87416605,\n",
              "       9.68918817, 2.55807393, 3.36942882, 3.23537469, 6.07037511,\n",
              "       8.7260591 , 5.65850163, 6.1278834 , 1.18477259, 9.10781657,\n",
              "       9.09099276, 8.25182691, 9.31049585, 1.91975814, 1.8554725 ,\n",
              "       8.65745138, 4.55393207, 6.21381614, 5.73066996, 7.20044283,\n",
              "       2.48379628, 1.69021137, 4.90104952, 9.42606811, 4.48150011,\n",
              "       3.95514307, 6.30572423, 3.94973584, 4.63840596, 6.89944845,\n",
              "       1.28078289, 7.13865726, 9.05788069, 6.42731778, 2.65628644,\n",
              "       9.86924926, 3.67611083, 8.46130077, 5.61565684, 2.44064797,\n",
              "       7.63039243, 3.1874049 , 3.63570483, 9.10071291, 1.37100039,\n",
              "       5.88504648, 5.59999522, 7.40570437, 1.09683192, 8.99833106,\n",
              "       8.07931349, 7.21568203, 8.1793004 , 3.04247431, 1.46082379,\n",
              "       5.06121648, 8.28795255, 3.76100457, 5.80456242, 4.90456788,\n",
              "       8.55205619, 7.59560608, 9.51996626, 2.54866021, 8.48654474,\n",
              "       2.62945577, 1.40128121, 3.91274107, 1.25950382, 6.57338581,\n",
              "       8.08682678, 6.61409487, 3.54072447, 5.89579932, 8.54674325,\n",
              "       6.6265921 , 3.89679728, 6.35294024, 2.88857775, 2.49829031,\n",
              "       6.07197232, 1.47004488, 9.36294969, 9.44852741, 6.88969329,\n",
              "       9.50405235, 5.42807476, 2.61715854, 5.6915395 , 8.50855847,\n",
              "       3.50449813, 5.10297701, 3.64700442, 5.59286705, 7.98036533,\n",
              "       5.86411895, 4.06531685, 6.60244381, 2.71839942, 4.59946036,\n",
              "       6.46746604, 5.29149131, 2.1973452 , 8.31606868, 7.29800595,\n",
              "       6.4107323 , 4.29775646, 7.32693675, 2.82824872, 6.25665266,\n",
              "       1.1854333 , 6.45536334, 3.82376242, 1.02768082, 2.59846281,\n",
              "       3.13105634, 2.32267506, 6.11440795, 3.4714713 , 7.12772222,\n",
              "       4.59153584, 7.42053863, 2.37612744, 2.23420143, 1.3942287 ,\n",
              "       2.4368339 , 7.16023218, 5.82563829, 8.65067957, 7.65467747,\n",
              "       1.04501041, 8.31896549, 7.98562456, 1.77393646, 1.91234251,\n",
              "       7.457614  , 7.46046312, 6.47043662, 7.16035805, 1.38092469,\n",
              "       1.0343826 , 5.06634275, 5.40142538, 4.70748543, 3.94504261,\n",
              "       5.21584682, 3.96467406, 7.8018171 , 6.62780545, 9.08725037,\n",
              "       1.64376227, 3.71175735, 7.83684746, 1.77702219, 4.903079  ,\n",
              "       4.52542688, 9.04978479, 5.94255287, 5.26896537, 9.84065017])"
            ]
          },
          "metadata": {},
          "execution_count": 20
        }
      ]
    },
    {
      "cell_type": "code",
      "source": [
        "hours=df.Hours_Studied.value_counts()\n",
        "hours"
      ],
      "metadata": {
        "colab": {
          "base_uri": "https://localhost:8080/"
        },
        "id": "UA3ZXGusXqDX",
        "outputId": "4d00f6f6-55f8-440c-9d27-6445a753f88b"
      },
      "execution_count": null,
      "outputs": [
        {
          "output_type": "execute_result",
          "data": {
            "text/plain": [
              "6.596347    1\n",
              "9.593937    1\n",
              "2.986966    1\n",
              "6.575396    1\n",
              "9.339898    1\n",
              "           ..\n",
              "6.928590    1\n",
              "6.582742    1\n",
              "7.911037    1\n",
              "2.135439    1\n",
              "9.840650    1\n",
              "Name: Hours_Studied, Length: 1000, dtype: int64"
            ]
          },
          "metadata": {},
          "execution_count": 25
        }
      ]
    },
    {
      "cell_type": "code",
      "source": [
        "hours= hours.plot(kind=\"barh\")"
      ],
      "metadata": {
        "colab": {
          "base_uri": "https://localhost:8080/",
          "height": 435
        },
        "id": "m5ZvJLwkX55h",
        "outputId": "2a889ddc-ca80-4d56-d092-2f068b83c09a"
      },
      "execution_count": null,
      "outputs": [
        {
          "output_type": "display_data",
          "data": {
            "text/plain": [
              "<Figure size 640x480 with 1 Axes>"
            ],
            "image/png": "[encoded data removed]"
          },
          "metadata": {}
        }
      ]
    },
    {
      "cell_type": "code",
      "source": [
        "df.Physics_Marks.unique()"
      ],
      "metadata": {
        "colab": {
          "base_uri": "https://localhost:8080/"
        },
        "id": "KG2Q6ZRBaEKZ",
        "outputId": "b73f419c-290e-4610-f4af-8a5e2dfe0e2e"
      },
      "execution_count": null,
      "outputs": [
        {
          "output_type": "execute_result",
          "data": {
            "text/plain": [
              "array([ 68,  44,  90,  81,  41,  58,  75,  65,  70,  63,  50,  55,  99,\n",
              "        79,  51,  85,  69,  67,  46,  89,  52,  82,  92,  56,  98,  48,\n",
              "        62,  53,  80,  74,  86,  73,  59,  64,  60,  77, 100,  43,  61,\n",
              "        78,  45,  84,  47,  96,  71,  97,  57,  83,  40,  95,  72,  91,\n",
              "        87,  42,  54,  49,  88,  93,  66,  94,  76])"
            ]
          },
          "metadata": {},
          "execution_count": 31
        }
      ]
    },
    {
      "cell_type": "code",
      "source": [
        "physics=df.Physics_Marks.value_counts()\n",
        "physics"
      ],
      "metadata": {
        "colab": {
          "base_uri": "https://localhost:8080/"
        },
        "id": "BQnfCybSaMJn",
        "outputId": "371c1b59-74a3-4c4c-bf8d-2194b29aac69"
      },
      "execution_count": null,
      "outputs": [
        {
          "output_type": "execute_result",
          "data": {
            "text/plain": [
              "69    22\n",
              "54    22\n",
              "87    22\n",
              "75    22\n",
              "71    22\n",
              "      ..\n",
              "43    10\n",
              "64    10\n",
              "49    10\n",
              "57     9\n",
              "94     6\n",
              "Name: Physics_Marks, Length: 61, dtype: int64"
            ]
          },
          "metadata": {},
          "execution_count": 32
        }
      ]
    },
    {
      "cell_type": "code",
      "source": [
        "physics=physics.plot(kind=\"barh\")"
      ],
      "metadata": {
        "colab": {
          "base_uri": "https://localhost:8080/",
          "height": 432
        },
        "id": "-8zYta3Mae_h",
        "outputId": "bd70cf61-73d9-4542-d7d5-44c08c3bea65"
      },
      "execution_count": null,
      "outputs": [
        {
          "output_type": "display_data",
          "data": {
            "text/plain": [
              "<Figure size 640x480 with 1 Axes>"
            ],
            "image/png": "[encoded data removed]"
          },
          "metadata": {}
        }
      ]
    },
    {
      "cell_type": "code",
      "source": [],
      "metadata": {
        "id": "LuU7D97YasMa"
      },
      "execution_count": null,
      "outputs": []
    }
  ]
}